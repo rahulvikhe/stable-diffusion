{
 "cells": [
  {
   "cell_type": "code",
   "metadata": {},
   "source": [
    "# Install necessary packages\n",
    "!pip install diffusers[\"torch\"] transformers\n",
    "!pip install accelerate\n",
    "!pip install git+https://github.com/huggingface/diffusers\n",
    "\n",
    "# Import required libraries\n",
    "import torch\n",
    "from diffusers import StableDiffusionPipeline\n",
    "from IPython.display import display\n",
    "\n",
    "# Load the diffusion model pipeline\n",
    "pipe = StableDiffusionPipeline.from_pretrained(\"digiplay/majicMIX_realistic_v6\", torch_dtype=torch.float16)\n",
    "\n",
    "# Move the model pipeline to GPU if available\n",
    "pipe = pipe.to(\"cuda\")\n",
    "\n",
    "# Disable safety checker to speed up inference\n",
    "pipe.safety_checker = None\n",
    "\n",
    "# Define the prompt for generating images\n",
    "prompt = \"most beautiful indian girl in forest background, artgerm, artstation, octane render, elegant, model, gorgeous, vray, depth of field, 8 k, by karol bak, donato giancola, 3 d, trending on artstation, octane render, cinematic lighting, hyper realism, high detail, octane render, 8 k\"\n",
    "\n",
    "# Set height and width for generated images\n",
    "h = 800\n",
    "w = 480\n",
    "\n",
    "# Number of diffusion steps\n",
    "steps = 30\n",
    "\n",
    "# Guiding scale for the diffusion process\n",
    "guidance = 7.5\n",
    "\n",
    "# Negative prompt for image generation\n",
    "neg = \"BadDream, FastNegativeV2\"\n",
    "\n",
    "# Number of images to generate\n",
    "num_images = 5\n",
    "\n",
    "# Generate and display the images\n",
    "images = []\n",
    "for _ in range(num_images):\n",
    "    # Generate image using diffusion model pipeline\n",
    "    image = pipe(prompt, height=h, width=w, num_inference_steps=steps, guidance_scale=guidance, negative_prompt=neg).images[0]\n",
    "    images.append(image)\n",
    "\n",
    "# Display generated images\n",
    "for img in images:\n",
    "    display(img)\n"
   ]
  }
 ],
 "metadata": {
  "kernelspec": {
   "display_name": "Python 3",
   "language": "python",
   "name": "python3"
  },
  "language_info": {
   "codemirror_mode": {
    "name": "ipython",
    "version": 3
   },
   "file_extension": ".py",
   "mimetype": "text/x-python",
   "name": "python",
   "nbconvert_exporter": "python",
   "pygments_lexer": "ipython3",
   "version": "3.9.1"
  }
 },
 "nbformat": 4,
 "nbformat_minor": 5
}
